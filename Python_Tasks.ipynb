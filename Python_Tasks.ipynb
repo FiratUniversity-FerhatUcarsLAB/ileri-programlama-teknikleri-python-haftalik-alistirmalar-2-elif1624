{
 "cells": [
  {
   "cell_type": "markdown",
   "id": "e2abb239",
   "metadata": {},
   "source": [
    "# YMH220 - İleri Programlama Teknikleri\n",
    "## Python Egzersizleri\n",
    "\n",
    "### İsim: **Elif Esra YAŞAR**\n",
    "### Öğrenci No: **210541048**\n",
    "### Tarih: **05.04.2025**\n"
   ]
  },
  {
   "cell_type": "markdown",
   "id": "570c2a05",
   "metadata": {},
   "source": [
    "# Soru 1\n",
    "### Verilen bir tam sayının asal sayı olup olmadığını belirleyen `asal_mi` isimli Python fonksiyonunu yazınız.\n",
    "\n",
    "### Fonksiyonunuzu test edin\n",
    "```python\n",
    "print(asal_mi(11))  # Beklenen çıktı: True\n",
    "print(asal_mi(15))  # Beklenen çıktı: False\n",
    "```"
   ]
  },
  {
   "cell_type": "code",
   "execution_count": 1,
   "id": "72806d01",
   "metadata": {},
   "outputs": [
    {
     "name": "stdout",
     "output_type": "stream",
     "text": [
      "True\n",
      "False\n"
     ]
    }
   ],
   "source": [
    "# Çözümünüzü buraya yazınız\n",
    "\n",
    "def asal_mi(sayi):\n",
    "    if sayi <= 1:\n",
    "        return False\n",
    "    for i in range(2, int(sayi**0.5) + 1): # Sayının kareköküne kadar kontrol etmek yeterlidir.\n",
    "        if sayi % i == 0:\n",
    "            return False\n",
    "    return True\n",
    "\n",
    "# Fonksiyon testi\n",
    "print(asal_mi(11))  # Beklenen çıktı: True\n",
    "print(asal_mi(15))  # Beklenen çıktı: False"
   ]
  },
  {
   "cell_type": "markdown",
   "id": "2c5e4bd9",
   "metadata": {},
   "source": [
    "# Soru 2\n",
    "### İki tam sayının en büyük ortak bölenini (EBOB) Öklid algoritması ile hesaplayan `ebob` isimli Python fonksiyonunu yazınız.\n",
    "\n",
    "### Fonksiyonunuzu test edin\n",
    "```python\n",
    "print(ebob(48, 18))  # Beklenen çıktı: 6\n",
    "print(ebob(100, 25))  # Beklenen çıktı: 25\n",
    "```"
   ]
  },
  {
   "cell_type": "code",
   "execution_count": 2,
   "id": "e4c8987e",
   "metadata": {},
   "outputs": [
    {
     "name": "stdout",
     "output_type": "stream",
     "text": [
      "6\n",
      "25\n"
     ]
    }
   ],
   "source": [
    "# Çözümünüzü buraya yazınız\n",
    "\n",
    "def ebob(a, b):\n",
    "    while b != 0:\n",
    "        a, b = b, a % b  # Python’da değerleri pratik şekilde değiştirme yöntemidir.a yeni değeri olarak b'yi alır,b ise a % b olur.Bu işlem, b sıfır olana kadar devam eder.\n",
    "    return a\n",
    "\n",
    "# Fonksiyon testi\n",
    "print(ebob(48, 18))   # Beklenen çıktı: 6\n",
    "print(ebob(100, 25))  # Beklenen çıktı: 25\n"
   ]
  },
  {
   "cell_type": "markdown",
   "id": "499fd7b4",
   "metadata": {},
   "source": [
    "# Soru 3\n",
    "### Verilen bir metindeki sesli harflerin (a, e, ı, i, o, ö, u, ü) sayısını hesaplayarak döndüren `sesli_harf_sayisi` fonksiyonunu yazınız.\n",
    "\n",
    "### Fonksiyonunuzu test edin\n",
    "```python\n",
    "print(sesli_harf_sayisi(\"programlama\"))  # Beklenen çıktı: 4\n",
    "print(sesli_harf_sayisi(\"algoritma\"))  # Beklenen çıktı: 4\n",
    "```"
   ]
  },
  {
   "cell_type": "code",
   "execution_count": 3,
   "id": "5488e486",
   "metadata": {},
   "outputs": [
    {
     "name": "stdout",
     "output_type": "stream",
     "text": [
      "4\n",
      "4\n"
     ]
    }
   ],
   "source": [
    "# Çözümünüzü buraya yazınız\n",
    "\n",
    "def sesli_harf_sayisi(metin):\n",
    "    sesliler = \"aeıioöuü\"\n",
    "    sayac = 0\n",
    "    for harf in metin:\n",
    "        if harf in sesliler:\n",
    "            sayac += 1\n",
    "    return sayac\n",
    "\n",
    "# Fonksiyon testleri\n",
    "print(sesli_harf_sayisi(\"programlama\"))  # Beklenen çıktı: 4\n",
    "print(sesli_harf_sayisi(\"algoritma\"))    # Beklenen çıktı: 4\n"
   ]
  },
  {
   "cell_type": "markdown",
   "id": "f61da9c2",
   "metadata": {},
   "source": [
    "# Soru 4\n",
    "### İki sıralı listeyi tek bir sıralı liste olarak birleştiren ve hazır sıralama fonksiyonlarını kullanmayan `sirali_listeleri_birlestir` fonksiyonunu yazınız.\n",
    "\n",
    "### Fonksiyonunuzu test edin\n",
    "```python\n",
    "print(sirali_listeleri_birlestir([1, 3, 5], [2, 4, 6]))  # Beklenen çıktı: [1, 2, 3, 4, 5, 6]\n",
    "print(sirali_listeleri_birlestir([-3, 0, 7], [-1, 4, 10]))  # Beklenen çıktı: [-3, -1, 0, 4, 7, 10]\n",
    "```"
   ]
  },
  {
   "cell_type": "code",
   "execution_count": 6,
   "id": "284fd7c4",
   "metadata": {},
   "outputs": [
    {
     "name": "stdout",
     "output_type": "stream",
     "text": [
      "[1, 2, 3, 4, 5, 6]\n",
      "[-3, -1, 0, 4, 7, 10]\n"
     ]
    }
   ],
   "source": [
    "# Çözümünüzü buraya yazınız\n",
    "\n",
    "def sirali_listeleri_birlestir(liste1, liste2):\n",
    "    # Birleştirilmiş sıralı elemanları tutacak boş liste\n",
    "    birlesik = []\n",
    "\n",
    "    # İki listenin sırasını takip etmek için indeksler\n",
    "    i, j = 0, 0\n",
    "\n",
    "    # Her iki liste de bitene kadar devam et\n",
    "    while i < len(liste1) and j < len(liste2):\n",
    "        # Eğer liste1'deki eleman liste2'dekinden küçükse\n",
    "        if liste1[i] < liste2[j]:\n",
    "            birlesik.append(liste1[i])  # liste1'den elemanı ekle\n",
    "            i += 1                      # liste1'in indeksini ilerlet\n",
    "        else:\n",
    "            birlesik.append(liste2[j])  # liste2'den elemanı ekle\n",
    "            j += 1                      # liste2'nin indeksini ilerlet\n",
    "\n",
    "    # liste1'de kalan elemanlar varsa, hepsini ekle\n",
    "    while i < len(liste1):\n",
    "        birlesik.append(liste1[i])\n",
    "        i += 1\n",
    "\n",
    "    # liste2'de kalan elemanlar varsa, hepsini ekle\n",
    "    while j < len(liste2):\n",
    "        birlesik.append(liste2[j])\n",
    "        j += 1\n",
    "\n",
    "    # Sonuç olarak birleştirilmiş sıralı listeyi döndür\n",
    "    return birlesik\n",
    "\n",
    "\n",
    "# Fonksiyon Testi\n",
    "\n",
    "print(sirali_listeleri_birlestir([1, 3, 5], [2, 4, 6]))     \n",
    "# Beklenen çıktı: [1, 2, 3, 4, 5, 6]\n",
    "\n",
    "print(sirali_listeleri_birlestir([-3, 0, 7], [-1, 4, 10]))  \n",
    "# Beklenen çıktı: [-3, -1, 0, 4, 7, 10]\n",
    "\n"
   ]
  },
  {
   "cell_type": "markdown",
   "id": "4987ac27",
   "metadata": {},
   "source": [
    "# Soru 5\n",
    "### Sıralı bir listede ikili arama algoritmasını kullanarak verilen elemanın indeksini bulan (eğer eleman listede yoksa -1 dönen) `ikili_arama` fonksiyonunu yazınız.\n",
    "\n",
    "### Fonksiyonunuzu test edin\n",
    "```python\n",
    "print(ikili_arama([1, 3, 5, 7, 9, 11], 7))  # Beklenen çıktı: 3\n",
    "print(ikili_arama([2, 4, 6, 8, 10], 5))  # Beklenen çıktı: -1\n",
    "```"
   ]
  },
  {
   "cell_type": "code",
   "execution_count": 7,
   "id": "0320ee58",
   "metadata": {},
   "outputs": [
    {
     "name": "stdout",
     "output_type": "stream",
     "text": [
      "3\n",
      "-1\n"
     ]
    }
   ],
   "source": [
    "# Çözümünüzü buraya yazınız\n",
    "\n",
    "def ikili_arama(liste, hedef):\n",
    "    bas = 0                      # listenin başlangıç index'i\n",
    "    son = len(liste) - 1        # listenin son index'i\n",
    "\n",
    "    while bas <= son:\n",
    "        orta = (bas + son) // 2  # ortadaki index\n",
    "\n",
    "        if liste[orta] == hedef:\n",
    "            return orta          # hedef bulundu\n",
    "        elif liste[orta] < hedef:\n",
    "            bas = orta + 1       # sağ yarıya geç\n",
    "        else:\n",
    "            son = orta - 1       # sol yarıya geç\n",
    "\n",
    "    return -1  # hedef bulunamadı\n",
    "\n",
    "\n",
    "# Fonksiyon Testi\n",
    "\n",
    "print(ikili_arama([1, 3, 5, 7, 9, 11], 7))   # Beklenen çıktı: 3\n",
    "print(ikili_arama([2, 4, 6, 8, 10], 5))      # Beklenen çıktı: -1\n"
   ]
  }
 ],
 "metadata": {
  "kernelspec": {
   "display_name": "Python 3",
   "language": "python",
   "name": "python3"
  },
  "language_info": {
   "codemirror_mode": {
    "name": "ipython",
    "version": 3
   },
   "file_extension": ".py",
   "mimetype": "text/x-python",
   "name": "python",
   "nbconvert_exporter": "python",
   "pygments_lexer": "ipython3",
   "version": "3.11.5"
  }
 },
 "nbformat": 4,
 "nbformat_minor": 5
}
